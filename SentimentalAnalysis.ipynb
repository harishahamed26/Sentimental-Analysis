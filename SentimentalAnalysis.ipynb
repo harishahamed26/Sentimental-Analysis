{
  "cells": [
    {
      "cell_type": "markdown",
      "metadata": {
        "id": "view-in-github",
        "colab_type": "text"
      },
      "source": [
        "<a href=\"https://colab.research.google.com/github/harishahamed26/Sentimental-Analysis/blob/main/SentimentalAnalysis.ipynb\" target=\"_parent\"><img src=\"https://colab.research.google.com/assets/colab-badge.svg\" alt=\"Open In Colab\"/></a>"
      ]
    },
    {
      "cell_type": "markdown",
      "metadata": {
        "id": "BdmnIA6GA3CG"
      },
      "source": [
        "# SENTIMENT ANALYSIS OF THE TWITTER DATASET \n"
      ]
    },
    {
      "cell_type": "code",
      "execution_count": 1,
      "metadata": {
        "colab": {
          "base_uri": "https://localhost:8080/"
        },
        "id": "R7xEw0uxha2p",
        "outputId": "315dca9b-d338-4884-bb90-207dee493352"
      },
      "outputs": [
        {
          "output_type": "stream",
          "name": "stderr",
          "text": [
            "[nltk_data] Downloading package wordnet to /root/nltk_data...\n",
            "[nltk_data] Downloading package omw-1.4 to /root/nltk_data...\n",
            "[nltk_data] Downloading package punkt to /root/nltk_data...\n",
            "[nltk_data]   Unzipping tokenizers/punkt.zip.\n"
          ]
        }
      ],
      "source": [
        "# Importing of necessary libraries\n",
        "\n",
        "import pandas as pd\n",
        "import numpy as np\n",
        "import seaborn as sns\n",
        "import matplotlib.pyplot as plt \n",
        "\n",
        "import nltk\n",
        "\n",
        "nltk.download('wordnet')  # required for WordNetLemmatizer\n",
        "nltk.download('omw-1.4')  # required for WordNetLemmatizer\n",
        "nltk.download('punkt')    # required for Tokenizers\n",
        "\n",
        "from nltk.tokenize import TweetTokenizer\n",
        "from nltk.stem import PorterStemmer       #Stemmer \n",
        "from nltk.stem import WordNetLemmatizer   #Lemmatization\n",
        "\n",
        "\n",
        "from sklearn.model_selection import train_test_split\n",
        "from sklearn.feature_extraction.text import CountVectorizer\n",
        "from sklearn.feature_extraction.text import TfidfVectorizer\n",
        "\n",
        "from sklearn import svm\n",
        "from sklearn.naive_bayes import GaussianNB\n",
        "from sklearn import metrics\n"
      ]
    },
    {
      "cell_type": "code",
      "execution_count": 2,
      "metadata": {
        "colab": {
          "base_uri": "https://localhost:8080/",
          "height": 206
        },
        "id": "goW4yB-pwdxy",
        "outputId": "5ef32308-1d35-4c9e-d5af-f7e15501437b"
      },
      "outputs": [
        {
          "output_type": "execute_result",
          "data": {
            "text/plain": [
              "           id                                               text sentiment\n",
              "0  549e992a42      Sooo SAD I will miss you here in San Diego!!!  negative\n",
              "1  088c60f138                          my boss is bullying me...  negative\n",
              "2  9642c003ef                     what interview! leave me alone  negative\n",
              "3  358bd9e861   Sons of ****, why couldn`t they put them on t...  negative\n",
              "4  6e0c6d75b1  2am feedings for the baby are fun when he is a...  positive"
            ],
            "text/html": [
              "\n",
              "  <div id=\"df-bef046cb-93e1-47fa-9259-1010bfe0c997\">\n",
              "    <div class=\"colab-df-container\">\n",
              "      <div>\n",
              "<style scoped>\n",
              "    .dataframe tbody tr th:only-of-type {\n",
              "        vertical-align: middle;\n",
              "    }\n",
              "\n",
              "    .dataframe tbody tr th {\n",
              "        vertical-align: top;\n",
              "    }\n",
              "\n",
              "    .dataframe thead th {\n",
              "        text-align: right;\n",
              "    }\n",
              "</style>\n",
              "<table border=\"1\" class=\"dataframe\">\n",
              "  <thead>\n",
              "    <tr style=\"text-align: right;\">\n",
              "      <th></th>\n",
              "      <th>id</th>\n",
              "      <th>text</th>\n",
              "      <th>sentiment</th>\n",
              "    </tr>\n",
              "  </thead>\n",
              "  <tbody>\n",
              "    <tr>\n",
              "      <th>0</th>\n",
              "      <td>549e992a42</td>\n",
              "      <td>Sooo SAD I will miss you here in San Diego!!!</td>\n",
              "      <td>negative</td>\n",
              "    </tr>\n",
              "    <tr>\n",
              "      <th>1</th>\n",
              "      <td>088c60f138</td>\n",
              "      <td>my boss is bullying me...</td>\n",
              "      <td>negative</td>\n",
              "    </tr>\n",
              "    <tr>\n",
              "      <th>2</th>\n",
              "      <td>9642c003ef</td>\n",
              "      <td>what interview! leave me alone</td>\n",
              "      <td>negative</td>\n",
              "    </tr>\n",
              "    <tr>\n",
              "      <th>3</th>\n",
              "      <td>358bd9e861</td>\n",
              "      <td>Sons of ****, why couldn`t they put them on t...</td>\n",
              "      <td>negative</td>\n",
              "    </tr>\n",
              "    <tr>\n",
              "      <th>4</th>\n",
              "      <td>6e0c6d75b1</td>\n",
              "      <td>2am feedings for the baby are fun when he is a...</td>\n",
              "      <td>positive</td>\n",
              "    </tr>\n",
              "  </tbody>\n",
              "</table>\n",
              "</div>\n",
              "      <button class=\"colab-df-convert\" onclick=\"convertToInteractive('df-bef046cb-93e1-47fa-9259-1010bfe0c997')\"\n",
              "              title=\"Convert this dataframe to an interactive table.\"\n",
              "              style=\"display:none;\">\n",
              "        \n",
              "  <svg xmlns=\"http://www.w3.org/2000/svg\" height=\"24px\"viewBox=\"0 0 24 24\"\n",
              "       width=\"24px\">\n",
              "    <path d=\"M0 0h24v24H0V0z\" fill=\"none\"/>\n",
              "    <path d=\"M18.56 5.44l.94 2.06.94-2.06 2.06-.94-2.06-.94-.94-2.06-.94 2.06-2.06.94zm-11 1L8.5 8.5l.94-2.06 2.06-.94-2.06-.94L8.5 2.5l-.94 2.06-2.06.94zm10 10l.94 2.06.94-2.06 2.06-.94-2.06-.94-.94-2.06-.94 2.06-2.06.94z\"/><path d=\"M17.41 7.96l-1.37-1.37c-.4-.4-.92-.59-1.43-.59-.52 0-1.04.2-1.43.59L10.3 9.45l-7.72 7.72c-.78.78-.78 2.05 0 2.83L4 21.41c.39.39.9.59 1.41.59.51 0 1.02-.2 1.41-.59l7.78-7.78 2.81-2.81c.8-.78.8-2.07 0-2.86zM5.41 20L4 18.59l7.72-7.72 1.47 1.35L5.41 20z\"/>\n",
              "  </svg>\n",
              "      </button>\n",
              "      \n",
              "  <style>\n",
              "    .colab-df-container {\n",
              "      display:flex;\n",
              "      flex-wrap:wrap;\n",
              "      gap: 12px;\n",
              "    }\n",
              "\n",
              "    .colab-df-convert {\n",
              "      background-color: #E8F0FE;\n",
              "      border: none;\n",
              "      border-radius: 50%;\n",
              "      cursor: pointer;\n",
              "      display: none;\n",
              "      fill: #1967D2;\n",
              "      height: 32px;\n",
              "      padding: 0 0 0 0;\n",
              "      width: 32px;\n",
              "    }\n",
              "\n",
              "    .colab-df-convert:hover {\n",
              "      background-color: #E2EBFA;\n",
              "      box-shadow: 0px 1px 2px rgba(60, 64, 67, 0.3), 0px 1px 3px 1px rgba(60, 64, 67, 0.15);\n",
              "      fill: #174EA6;\n",
              "    }\n",
              "\n",
              "    [theme=dark] .colab-df-convert {\n",
              "      background-color: #3B4455;\n",
              "      fill: #D2E3FC;\n",
              "    }\n",
              "\n",
              "    [theme=dark] .colab-df-convert:hover {\n",
              "      background-color: #434B5C;\n",
              "      box-shadow: 0px 1px 3px 1px rgba(0, 0, 0, 0.15);\n",
              "      filter: drop-shadow(0px 1px 2px rgba(0, 0, 0, 0.3));\n",
              "      fill: #FFFFFF;\n",
              "    }\n",
              "  </style>\n",
              "\n",
              "      <script>\n",
              "        const buttonEl =\n",
              "          document.querySelector('#df-bef046cb-93e1-47fa-9259-1010bfe0c997 button.colab-df-convert');\n",
              "        buttonEl.style.display =\n",
              "          google.colab.kernel.accessAllowed ? 'block' : 'none';\n",
              "\n",
              "        async function convertToInteractive(key) {\n",
              "          const element = document.querySelector('#df-bef046cb-93e1-47fa-9259-1010bfe0c997');\n",
              "          const dataTable =\n",
              "            await google.colab.kernel.invokeFunction('convertToInteractive',\n",
              "                                                     [key], {});\n",
              "          if (!dataTable) return;\n",
              "\n",
              "          const docLinkHtml = 'Like what you see? Visit the ' +\n",
              "            '<a target=\"_blank\" href=https://colab.research.google.com/notebooks/data_table.ipynb>data table notebook</a>'\n",
              "            + ' to learn more about interactive tables.';\n",
              "          element.innerHTML = '';\n",
              "          dataTable['output_type'] = 'display_data';\n",
              "          await google.colab.output.renderOutput(dataTable, element);\n",
              "          const docLink = document.createElement('div');\n",
              "          docLink.innerHTML = docLinkHtml;\n",
              "          element.appendChild(docLink);\n",
              "        }\n",
              "      </script>\n",
              "    </div>\n",
              "  </div>\n",
              "  "
            ]
          },
          "metadata": {},
          "execution_count": 2
        }
      ],
      "source": [
        "df_sentimentalDS = pd.read_csv('https://raw.githubusercontent.com/harishahamed26/Sentimental-Analysis/main/data/train.csv')\n",
        "df_sentimentalDS.head(5)"
      ]
    },
    {
      "cell_type": "markdown",
      "metadata": {
        "id": "Q_G4kRw0BU4a"
      },
      "source": [
        "# DATA CLEANING & EDA\n"
      ]
    },
    {
      "cell_type": "code",
      "execution_count": 3,
      "metadata": {
        "id": "oqSCo2ZexKc3"
      },
      "outputs": [],
      "source": [
        "df_sentimentalDS = df_sentimentalDS.drop('id', axis = 1)"
      ]
    },
    {
      "cell_type": "code",
      "execution_count": 4,
      "metadata": {
        "colab": {
          "base_uri": "https://localhost:8080/"
        },
        "id": "xXS3N8I-xRDt",
        "outputId": "3af277c6-aefa-4862-8aad-0fd0887ba3eb"
      },
      "outputs": [
        {
          "output_type": "stream",
          "name": "stdout",
          "text": [
            "<class 'pandas.core.frame.DataFrame'>\n",
            "RangeIndex: 16363 entries, 0 to 16362\n",
            "Data columns (total 2 columns):\n",
            " #   Column     Non-Null Count  Dtype \n",
            "---  ------     --------------  ----- \n",
            " 0   text       16363 non-null  object\n",
            " 1   sentiment  16363 non-null  object\n",
            "dtypes: object(2)\n",
            "memory usage: 255.8+ KB\n"
          ]
        }
      ],
      "source": [
        "df_sentimentalDS.info()"
      ]
    },
    {
      "cell_type": "code",
      "execution_count": 5,
      "metadata": {
        "colab": {
          "base_uri": "https://localhost:8080/"
        },
        "id": "dYb6NAINxTgN",
        "outputId": "8ff240fc-c3a7-4c6c-aa1e-a75dc6930145"
      },
      "outputs": [
        {
          "output_type": "execute_result",
          "data": {
            "text/plain": [
              "text         0\n",
              "sentiment    0\n",
              "dtype: int64"
            ]
          },
          "metadata": {},
          "execution_count": 5
        }
      ],
      "source": [
        "df_sentimentalDS.isna().sum()"
      ]
    },
    {
      "cell_type": "code",
      "execution_count": 6,
      "metadata": {
        "colab": {
          "base_uri": "https://localhost:8080/",
          "height": 175
        },
        "id": "SKfEXBO1xbXE",
        "outputId": "ed506c76-6bfa-4dd5-c31e-b0d0deb0fab4"
      },
      "outputs": [
        {
          "output_type": "execute_result",
          "data": {
            "text/plain": [
              "                                                  text sentiment\n",
              "count                                            16363     16363\n",
              "unique                                           16363         2\n",
              "top      Sooo SAD I will miss you here in San Diego!!!  positive\n",
              "freq                                                 1      8582"
            ],
            "text/html": [
              "\n",
              "  <div id=\"df-b7d98ab0-6d68-427d-b1df-13e79d657433\">\n",
              "    <div class=\"colab-df-container\">\n",
              "      <div>\n",
              "<style scoped>\n",
              "    .dataframe tbody tr th:only-of-type {\n",
              "        vertical-align: middle;\n",
              "    }\n",
              "\n",
              "    .dataframe tbody tr th {\n",
              "        vertical-align: top;\n",
              "    }\n",
              "\n",
              "    .dataframe thead th {\n",
              "        text-align: right;\n",
              "    }\n",
              "</style>\n",
              "<table border=\"1\" class=\"dataframe\">\n",
              "  <thead>\n",
              "    <tr style=\"text-align: right;\">\n",
              "      <th></th>\n",
              "      <th>text</th>\n",
              "      <th>sentiment</th>\n",
              "    </tr>\n",
              "  </thead>\n",
              "  <tbody>\n",
              "    <tr>\n",
              "      <th>count</th>\n",
              "      <td>16363</td>\n",
              "      <td>16363</td>\n",
              "    </tr>\n",
              "    <tr>\n",
              "      <th>unique</th>\n",
              "      <td>16363</td>\n",
              "      <td>2</td>\n",
              "    </tr>\n",
              "    <tr>\n",
              "      <th>top</th>\n",
              "      <td>Sooo SAD I will miss you here in San Diego!!!</td>\n",
              "      <td>positive</td>\n",
              "    </tr>\n",
              "    <tr>\n",
              "      <th>freq</th>\n",
              "      <td>1</td>\n",
              "      <td>8582</td>\n",
              "    </tr>\n",
              "  </tbody>\n",
              "</table>\n",
              "</div>\n",
              "      <button class=\"colab-df-convert\" onclick=\"convertToInteractive('df-b7d98ab0-6d68-427d-b1df-13e79d657433')\"\n",
              "              title=\"Convert this dataframe to an interactive table.\"\n",
              "              style=\"display:none;\">\n",
              "        \n",
              "  <svg xmlns=\"http://www.w3.org/2000/svg\" height=\"24px\"viewBox=\"0 0 24 24\"\n",
              "       width=\"24px\">\n",
              "    <path d=\"M0 0h24v24H0V0z\" fill=\"none\"/>\n",
              "    <path d=\"M18.56 5.44l.94 2.06.94-2.06 2.06-.94-2.06-.94-.94-2.06-.94 2.06-2.06.94zm-11 1L8.5 8.5l.94-2.06 2.06-.94-2.06-.94L8.5 2.5l-.94 2.06-2.06.94zm10 10l.94 2.06.94-2.06 2.06-.94-2.06-.94-.94-2.06-.94 2.06-2.06.94z\"/><path d=\"M17.41 7.96l-1.37-1.37c-.4-.4-.92-.59-1.43-.59-.52 0-1.04.2-1.43.59L10.3 9.45l-7.72 7.72c-.78.78-.78 2.05 0 2.83L4 21.41c.39.39.9.59 1.41.59.51 0 1.02-.2 1.41-.59l7.78-7.78 2.81-2.81c.8-.78.8-2.07 0-2.86zM5.41 20L4 18.59l7.72-7.72 1.47 1.35L5.41 20z\"/>\n",
              "  </svg>\n",
              "      </button>\n",
              "      \n",
              "  <style>\n",
              "    .colab-df-container {\n",
              "      display:flex;\n",
              "      flex-wrap:wrap;\n",
              "      gap: 12px;\n",
              "    }\n",
              "\n",
              "    .colab-df-convert {\n",
              "      background-color: #E8F0FE;\n",
              "      border: none;\n",
              "      border-radius: 50%;\n",
              "      cursor: pointer;\n",
              "      display: none;\n",
              "      fill: #1967D2;\n",
              "      height: 32px;\n",
              "      padding: 0 0 0 0;\n",
              "      width: 32px;\n",
              "    }\n",
              "\n",
              "    .colab-df-convert:hover {\n",
              "      background-color: #E2EBFA;\n",
              "      box-shadow: 0px 1px 2px rgba(60, 64, 67, 0.3), 0px 1px 3px 1px rgba(60, 64, 67, 0.15);\n",
              "      fill: #174EA6;\n",
              "    }\n",
              "\n",
              "    [theme=dark] .colab-df-convert {\n",
              "      background-color: #3B4455;\n",
              "      fill: #D2E3FC;\n",
              "    }\n",
              "\n",
              "    [theme=dark] .colab-df-convert:hover {\n",
              "      background-color: #434B5C;\n",
              "      box-shadow: 0px 1px 3px 1px rgba(0, 0, 0, 0.15);\n",
              "      filter: drop-shadow(0px 1px 2px rgba(0, 0, 0, 0.3));\n",
              "      fill: #FFFFFF;\n",
              "    }\n",
              "  </style>\n",
              "\n",
              "      <script>\n",
              "        const buttonEl =\n",
              "          document.querySelector('#df-b7d98ab0-6d68-427d-b1df-13e79d657433 button.colab-df-convert');\n",
              "        buttonEl.style.display =\n",
              "          google.colab.kernel.accessAllowed ? 'block' : 'none';\n",
              "\n",
              "        async function convertToInteractive(key) {\n",
              "          const element = document.querySelector('#df-b7d98ab0-6d68-427d-b1df-13e79d657433');\n",
              "          const dataTable =\n",
              "            await google.colab.kernel.invokeFunction('convertToInteractive',\n",
              "                                                     [key], {});\n",
              "          if (!dataTable) return;\n",
              "\n",
              "          const docLinkHtml = 'Like what you see? Visit the ' +\n",
              "            '<a target=\"_blank\" href=https://colab.research.google.com/notebooks/data_table.ipynb>data table notebook</a>'\n",
              "            + ' to learn more about interactive tables.';\n",
              "          element.innerHTML = '';\n",
              "          dataTable['output_type'] = 'display_data';\n",
              "          await google.colab.output.renderOutput(dataTable, element);\n",
              "          const docLink = document.createElement('div');\n",
              "          docLink.innerHTML = docLinkHtml;\n",
              "          element.appendChild(docLink);\n",
              "        }\n",
              "      </script>\n",
              "    </div>\n",
              "  </div>\n",
              "  "
            ]
          },
          "metadata": {},
          "execution_count": 6
        }
      ],
      "source": [
        "df_sentimentalDS.describe()"
      ]
    },
    {
      "cell_type": "code",
      "execution_count": 7,
      "metadata": {
        "colab": {
          "base_uri": "https://localhost:8080/",
          "height": 424
        },
        "id": "a06NKPlIxmvd",
        "outputId": "e4414f23-d887-46fd-fed3-b409be63f4ac"
      },
      "outputs": [
        {
          "output_type": "execute_result",
          "data": {
            "text/plain": [
              "                                                    text  sentiment\n",
              "0          Sooo SAD I will miss you here in San Diego!!!          0\n",
              "1                              my boss is bullying me...          0\n",
              "2                         what interview! leave me alone          0\n",
              "3       Sons of ****, why couldn`t they put them on t...          0\n",
              "4      2am feedings for the baby are fun when he is a...          1\n",
              "...                                                  ...        ...\n",
              "16358                                     enjoy ur night          1\n",
              "16359   wish we could come see u on Denver  husband l...          0\n",
              "16360   I`ve wondered about rake to.  The client has ...          0\n",
              "16361   Yay good for both of you. Enjoy the break - y...          1\n",
              "16362                         But it was worth it  ****.          1\n",
              "\n",
              "[16363 rows x 2 columns]"
            ],
            "text/html": [
              "\n",
              "  <div id=\"df-0c096cfa-4442-4f9f-bdfe-279019cfc18f\">\n",
              "    <div class=\"colab-df-container\">\n",
              "      <div>\n",
              "<style scoped>\n",
              "    .dataframe tbody tr th:only-of-type {\n",
              "        vertical-align: middle;\n",
              "    }\n",
              "\n",
              "    .dataframe tbody tr th {\n",
              "        vertical-align: top;\n",
              "    }\n",
              "\n",
              "    .dataframe thead th {\n",
              "        text-align: right;\n",
              "    }\n",
              "</style>\n",
              "<table border=\"1\" class=\"dataframe\">\n",
              "  <thead>\n",
              "    <tr style=\"text-align: right;\">\n",
              "      <th></th>\n",
              "      <th>text</th>\n",
              "      <th>sentiment</th>\n",
              "    </tr>\n",
              "  </thead>\n",
              "  <tbody>\n",
              "    <tr>\n",
              "      <th>0</th>\n",
              "      <td>Sooo SAD I will miss you here in San Diego!!!</td>\n",
              "      <td>0</td>\n",
              "    </tr>\n",
              "    <tr>\n",
              "      <th>1</th>\n",
              "      <td>my boss is bullying me...</td>\n",
              "      <td>0</td>\n",
              "    </tr>\n",
              "    <tr>\n",
              "      <th>2</th>\n",
              "      <td>what interview! leave me alone</td>\n",
              "      <td>0</td>\n",
              "    </tr>\n",
              "    <tr>\n",
              "      <th>3</th>\n",
              "      <td>Sons of ****, why couldn`t they put them on t...</td>\n",
              "      <td>0</td>\n",
              "    </tr>\n",
              "    <tr>\n",
              "      <th>4</th>\n",
              "      <td>2am feedings for the baby are fun when he is a...</td>\n",
              "      <td>1</td>\n",
              "    </tr>\n",
              "    <tr>\n",
              "      <th>...</th>\n",
              "      <td>...</td>\n",
              "      <td>...</td>\n",
              "    </tr>\n",
              "    <tr>\n",
              "      <th>16358</th>\n",
              "      <td>enjoy ur night</td>\n",
              "      <td>1</td>\n",
              "    </tr>\n",
              "    <tr>\n",
              "      <th>16359</th>\n",
              "      <td>wish we could come see u on Denver  husband l...</td>\n",
              "      <td>0</td>\n",
              "    </tr>\n",
              "    <tr>\n",
              "      <th>16360</th>\n",
              "      <td>I`ve wondered about rake to.  The client has ...</td>\n",
              "      <td>0</td>\n",
              "    </tr>\n",
              "    <tr>\n",
              "      <th>16361</th>\n",
              "      <td>Yay good for both of you. Enjoy the break - y...</td>\n",
              "      <td>1</td>\n",
              "    </tr>\n",
              "    <tr>\n",
              "      <th>16362</th>\n",
              "      <td>But it was worth it  ****.</td>\n",
              "      <td>1</td>\n",
              "    </tr>\n",
              "  </tbody>\n",
              "</table>\n",
              "<p>16363 rows × 2 columns</p>\n",
              "</div>\n",
              "      <button class=\"colab-df-convert\" onclick=\"convertToInteractive('df-0c096cfa-4442-4f9f-bdfe-279019cfc18f')\"\n",
              "              title=\"Convert this dataframe to an interactive table.\"\n",
              "              style=\"display:none;\">\n",
              "        \n",
              "  <svg xmlns=\"http://www.w3.org/2000/svg\" height=\"24px\"viewBox=\"0 0 24 24\"\n",
              "       width=\"24px\">\n",
              "    <path d=\"M0 0h24v24H0V0z\" fill=\"none\"/>\n",
              "    <path d=\"M18.56 5.44l.94 2.06.94-2.06 2.06-.94-2.06-.94-.94-2.06-.94 2.06-2.06.94zm-11 1L8.5 8.5l.94-2.06 2.06-.94-2.06-.94L8.5 2.5l-.94 2.06-2.06.94zm10 10l.94 2.06.94-2.06 2.06-.94-2.06-.94-.94-2.06-.94 2.06-2.06.94z\"/><path d=\"M17.41 7.96l-1.37-1.37c-.4-.4-.92-.59-1.43-.59-.52 0-1.04.2-1.43.59L10.3 9.45l-7.72 7.72c-.78.78-.78 2.05 0 2.83L4 21.41c.39.39.9.59 1.41.59.51 0 1.02-.2 1.41-.59l7.78-7.78 2.81-2.81c.8-.78.8-2.07 0-2.86zM5.41 20L4 18.59l7.72-7.72 1.47 1.35L5.41 20z\"/>\n",
              "  </svg>\n",
              "      </button>\n",
              "      \n",
              "  <style>\n",
              "    .colab-df-container {\n",
              "      display:flex;\n",
              "      flex-wrap:wrap;\n",
              "      gap: 12px;\n",
              "    }\n",
              "\n",
              "    .colab-df-convert {\n",
              "      background-color: #E8F0FE;\n",
              "      border: none;\n",
              "      border-radius: 50%;\n",
              "      cursor: pointer;\n",
              "      display: none;\n",
              "      fill: #1967D2;\n",
              "      height: 32px;\n",
              "      padding: 0 0 0 0;\n",
              "      width: 32px;\n",
              "    }\n",
              "\n",
              "    .colab-df-convert:hover {\n",
              "      background-color: #E2EBFA;\n",
              "      box-shadow: 0px 1px 2px rgba(60, 64, 67, 0.3), 0px 1px 3px 1px rgba(60, 64, 67, 0.15);\n",
              "      fill: #174EA6;\n",
              "    }\n",
              "\n",
              "    [theme=dark] .colab-df-convert {\n",
              "      background-color: #3B4455;\n",
              "      fill: #D2E3FC;\n",
              "    }\n",
              "\n",
              "    [theme=dark] .colab-df-convert:hover {\n",
              "      background-color: #434B5C;\n",
              "      box-shadow: 0px 1px 3px 1px rgba(0, 0, 0, 0.15);\n",
              "      filter: drop-shadow(0px 1px 2px rgba(0, 0, 0, 0.3));\n",
              "      fill: #FFFFFF;\n",
              "    }\n",
              "  </style>\n",
              "\n",
              "      <script>\n",
              "        const buttonEl =\n",
              "          document.querySelector('#df-0c096cfa-4442-4f9f-bdfe-279019cfc18f button.colab-df-convert');\n",
              "        buttonEl.style.display =\n",
              "          google.colab.kernel.accessAllowed ? 'block' : 'none';\n",
              "\n",
              "        async function convertToInteractive(key) {\n",
              "          const element = document.querySelector('#df-0c096cfa-4442-4f9f-bdfe-279019cfc18f');\n",
              "          const dataTable =\n",
              "            await google.colab.kernel.invokeFunction('convertToInteractive',\n",
              "                                                     [key], {});\n",
              "          if (!dataTable) return;\n",
              "\n",
              "          const docLinkHtml = 'Like what you see? Visit the ' +\n",
              "            '<a target=\"_blank\" href=https://colab.research.google.com/notebooks/data_table.ipynb>data table notebook</a>'\n",
              "            + ' to learn more about interactive tables.';\n",
              "          element.innerHTML = '';\n",
              "          dataTable['output_type'] = 'display_data';\n",
              "          await google.colab.output.renderOutput(dataTable, element);\n",
              "          const docLink = document.createElement('div');\n",
              "          docLink.innerHTML = docLinkHtml;\n",
              "          element.appendChild(docLink);\n",
              "        }\n",
              "      </script>\n",
              "    </div>\n",
              "  </div>\n",
              "  "
            ]
          },
          "metadata": {},
          "execution_count": 7
        }
      ],
      "source": [
        "# Importing Preprocessing from sklearn to perform the label encoding operation\n",
        "\n",
        "from sklearn import preprocessing\n",
        "\n",
        "label_encoder = preprocessing.LabelEncoder()\n",
        "df_sentimentalDS['sentiment']= label_encoder.fit_transform(df_sentimentalDS['sentiment'])\n",
        "df_sentimentalDS\n",
        "\n"
      ]
    },
    {
      "cell_type": "code",
      "execution_count": 8,
      "metadata": {
        "colab": {
          "base_uri": "https://localhost:8080/",
          "height": 385
        },
        "id": "4n2zq6rxyVx1",
        "outputId": "7f444497-00b1-42c9-94ba-0a5b6ef4a93a"
      },
      "outputs": [
        {
          "output_type": "display_data",
          "data": {
            "text/plain": [
              "<Figure size 360x360 with 1 Axes>"
            ],
            "image/png": "[encoded data removed]"
          },
          "metadata": {
            "needs_background": "light"
          }
        }
      ],
      "source": [
        "import warnings\n",
        "warnings.filterwarnings('ignore')\n",
        "\n",
        "plt.figure(figsize=(5,5))\n",
        "sns.countplot(df_sentimentalDS['sentiment'], palette = 'crest')\n",
        "plt.tight_layout()\n",
        "plt.title('Count for sentimental')\n",
        "plt.show()"
      ]
    },
    {
      "cell_type": "code",
      "execution_count": 9,
      "metadata": {
        "id": "08UGLdbN2Ir-"
      },
      "outputs": [],
      "source": [
        "# Converting all the strings to lower case \n",
        "\n",
        "df_sentimentalDS['text'] = df_sentimentalDS['text'].str.lower()"
      ]
    },
    {
      "cell_type": "code",
      "execution_count": 10,
      "metadata": {
        "colab": {
          "base_uri": "https://localhost:8080/"
        },
        "id": "_doNNDkS3l24",
        "outputId": "76a2f7e4-2ac9-49c7-db4c-3718e6499f5d"
      },
      "outputs": [
        {
          "output_type": "execute_result",
          "data": {
            "text/plain": [
              "0               sooo sad i will miss you here in san diego\n",
              "1                                   my boss is bullying me\n",
              "2                            what interview leave me alone\n",
              "3         sons of  why couldnt they put them on the rel...\n",
              "4        2am feedings for the baby are fun when he is a...\n",
              "                               ...                        \n",
              "16358                                       enjoy ur night\n",
              "16359     wish we could come see u on denver  husband l...\n",
              "16360     ive wondered about rake to  the client has ma...\n",
              "16361     yay good for both of you enjoy the break  you...\n",
              "16362                                but it was worth it  \n",
              "Name: text, Length: 16363, dtype: object"
            ]
          },
          "metadata": {},
          "execution_count": 10
        }
      ],
      "source": [
        "# Removing punctuation, special charaters and URL\n",
        "\n",
        "df_sentimentalDS['text'] = df_sentimentalDS['text'].str.replace(r'[^\\w\\s]+', '') # Removing punctuations\n",
        "df_sentimentalDS['text'] = df_sentimentalDS['text'].str.replace(r'http\\S+', '')  # Removing URL\n",
        "df_sentimentalDS['text'] = df_sentimentalDS['text'].str.replace(r'[^\\w\\s]', '')      # Removing Special Charaters\n",
        "df_sentimentalDS['text']\n"
      ]
    },
    {
      "cell_type": "code",
      "execution_count": 10,
      "metadata": {
        "id": "hXH55UdtGkfo"
      },
      "outputs": [],
      "source": []
    },
    {
      "cell_type": "markdown",
      "metadata": {
        "id": "zuondaGcBcj5"
      },
      "source": [
        "# DATA PRE-PROCESSING"
      ]
    },
    {
      "cell_type": "markdown",
      "metadata": {
        "id": "u8f2GUXzBtvj"
      },
      "source": [
        "1. TOKENISATION \n",
        "    *   TOKENISATION -  SINCE THE DATASET IS BASED ON THE TWEET. \n",
        "        TWEET TOKENISATION IS USED.\n",
        "\n",
        "2. NORMALISATION\n",
        "    *   STEMMING\n",
        "    *   LEMMATIZATION\n",
        "\n",
        "\n",
        "\n"
      ]
    },
    {
      "cell_type": "code",
      "execution_count": 11,
      "metadata": {
        "colab": {
          "base_uri": "https://localhost:8080/",
          "height": 0
        },
        "id": "G7ZIzJAJBrrX",
        "outputId": "a442f355-27dd-4ebc-9177-aa59eaf4db97"
      },
      "outputs": [
        {
          "output_type": "stream",
          "name": "stdout",
          "text": [
            " Generated Token Words:\n",
            "[['sooo', 'sad', 'i', 'will', 'miss', 'you', 'here', 'in', 'san', 'diego'], ['my', 'boss', 'is', 'bullying', 'me']]\n",
            "\n",
            " Generated Token Sentence:\n"
          ]
        },
        {
          "output_type": "execute_result",
          "data": {
            "text/plain": [
              "                                          text  sentiment  \\\n",
              "0   sooo sad i will miss you here in san diego          0   \n",
              "1                       my boss is bullying me          0   \n",
              "\n",
              "                               Tokenised_text  \n",
              "0  sooo sad i will miss you here in san diego  \n",
              "1                      my boss is bullying me  "
            ],
            "text/html": [
              "\n",
              "  <div id=\"df-b7eb1d2c-43c8-432e-ad2f-76b7b371e8c9\">\n",
              "    <div class=\"colab-df-container\">\n",
              "      <div>\n",
              "<style scoped>\n",
              "    .dataframe tbody tr th:only-of-type {\n",
              "        vertical-align: middle;\n",
              "    }\n",
              "\n",
              "    .dataframe tbody tr th {\n",
              "        vertical-align: top;\n",
              "    }\n",
              "\n",
              "    .dataframe thead th {\n",
              "        text-align: right;\n",
              "    }\n",
              "</style>\n",
              "<table border=\"1\" class=\"dataframe\">\n",
              "  <thead>\n",
              "    <tr style=\"text-align: right;\">\n",
              "      <th></th>\n",
              "      <th>text</th>\n",
              "      <th>sentiment</th>\n",
              "      <th>Tokenised_text</th>\n",
              "    </tr>\n",
              "  </thead>\n",
              "  <tbody>\n",
              "    <tr>\n",
              "      <th>0</th>\n",
              "      <td>sooo sad i will miss you here in san diego</td>\n",
              "      <td>0</td>\n",
              "      <td>sooo sad i will miss you here in san diego</td>\n",
              "    </tr>\n",
              "    <tr>\n",
              "      <th>1</th>\n",
              "      <td>my boss is bullying me</td>\n",
              "      <td>0</td>\n",
              "      <td>my boss is bullying me</td>\n",
              "    </tr>\n",
              "  </tbody>\n",
              "</table>\n",
              "</div>\n",
              "      <button class=\"colab-df-convert\" onclick=\"convertToInteractive('df-b7eb1d2c-43c8-432e-ad2f-76b7b371e8c9')\"\n",
              "              title=\"Convert this dataframe to an interactive table.\"\n",
              "              style=\"display:none;\">\n",
              "        \n",
              "  <svg xmlns=\"http://www.w3.org/2000/svg\" height=\"24px\"viewBox=\"0 0 24 24\"\n",
              "       width=\"24px\">\n",
              "    <path d=\"M0 0h24v24H0V0z\" fill=\"none\"/>\n",
              "    <path d=\"M18.56 5.44l.94 2.06.94-2.06 2.06-.94-2.06-.94-.94-2.06-.94 2.06-2.06.94zm-11 1L8.5 8.5l.94-2.06 2.06-.94-2.06-.94L8.5 2.5l-.94 2.06-2.06.94zm10 10l.94 2.06.94-2.06 2.06-.94-2.06-.94-.94-2.06-.94 2.06-2.06.94z\"/><path d=\"M17.41 7.96l-1.37-1.37c-.4-.4-.92-.59-1.43-.59-.52 0-1.04.2-1.43.59L10.3 9.45l-7.72 7.72c-.78.78-.78 2.05 0 2.83L4 21.41c.39.39.9.59 1.41.59.51 0 1.02-.2 1.41-.59l7.78-7.78 2.81-2.81c.8-.78.8-2.07 0-2.86zM5.41 20L4 18.59l7.72-7.72 1.47 1.35L5.41 20z\"/>\n",
              "  </svg>\n",
              "      </button>\n",
              "      \n",
              "  <style>\n",
              "    .colab-df-container {\n",
              "      display:flex;\n",
              "      flex-wrap:wrap;\n",
              "      gap: 12px;\n",
              "    }\n",
              "\n",
              "    .colab-df-convert {\n",
              "      background-color: #E8F0FE;\n",
              "      border: none;\n",
              "      border-radius: 50%;\n",
              "      cursor: pointer;\n",
              "      display: none;\n",
              "      fill: #1967D2;\n",
              "      height: 32px;\n",
              "      padding: 0 0 0 0;\n",
              "      width: 32px;\n",
              "    }\n",
              "\n",
              "    .colab-df-convert:hover {\n",
              "      background-color: #E2EBFA;\n",
              "      box-shadow: 0px 1px 2px rgba(60, 64, 67, 0.3), 0px 1px 3px 1px rgba(60, 64, 67, 0.15);\n",
              "      fill: #174EA6;\n",
              "    }\n",
              "\n",
              "    [theme=dark] .colab-df-convert {\n",
              "      background-color: #3B4455;\n",
              "      fill: #D2E3FC;\n",
              "    }\n",
              "\n",
              "    [theme=dark] .colab-df-convert:hover {\n",
              "      background-color: #434B5C;\n",
              "      box-shadow: 0px 1px 3px 1px rgba(0, 0, 0, 0.15);\n",
              "      filter: drop-shadow(0px 1px 2px rgba(0, 0, 0, 0.3));\n",
              "      fill: #FFFFFF;\n",
              "    }\n",
              "  </style>\n",
              "\n",
              "      <script>\n",
              "        const buttonEl =\n",
              "          document.querySelector('#df-b7eb1d2c-43c8-432e-ad2f-76b7b371e8c9 button.colab-df-convert');\n",
              "        buttonEl.style.display =\n",
              "          google.colab.kernel.accessAllowed ? 'block' : 'none';\n",
              "\n",
              "        async function convertToInteractive(key) {\n",
              "          const element = document.querySelector('#df-b7eb1d2c-43c8-432e-ad2f-76b7b371e8c9');\n",
              "          const dataTable =\n",
              "            await google.colab.kernel.invokeFunction('convertToInteractive',\n",
              "                                                     [key], {});\n",
              "          if (!dataTable) return;\n",
              "\n",
              "          const docLinkHtml = 'Like what you see? Visit the ' +\n",
              "            '<a target=\"_blank\" href=https://colab.research.google.com/notebooks/data_table.ipynb>data table notebook</a>'\n",
              "            + ' to learn more about interactive tables.';\n",
              "          element.innerHTML = '';\n",
              "          dataTable['output_type'] = 'display_data';\n",
              "          await google.colab.output.renderOutput(dataTable, element);\n",
              "          const docLink = document.createElement('div');\n",
              "          docLink.innerHTML = docLinkHtml;\n",
              "          element.appendChild(docLink);\n",
              "        }\n",
              "      </script>\n",
              "    </div>\n",
              "  </div>\n",
              "  "
            ]
          },
          "metadata": {},
          "execution_count": 11
        }
      ],
      "source": [
        "# TOKENISATION\n",
        "\n",
        "tweet = TweetTokenizer()\n",
        "\n",
        "Token_words = [tweet.tokenize(text) for text in df_sentimentalDS['text']]\n",
        "print(' Generated Token Words:')\n",
        "print(Token_words[:2])\n",
        "\n",
        "\n",
        "Token_Sentence = [' '.join(token) for token in Token_words ]\n",
        "print('\\n Generated Token Sentence:')\n",
        "\n",
        "df_sentimentalDS['Tokenised_text'] = Token_Sentence\n",
        "df_sentimentalDS.head(2)\n",
        "\n"
      ]
    },
    {
      "cell_type": "code",
      "execution_count": 12,
      "metadata": {
        "colab": {
          "base_uri": "https://localhost:8080/",
          "height": 0
        },
        "id": "E0s3hiPQRcuo",
        "outputId": "957135a4-46b8-4144-e730-e56348ce2eea"
      },
      "outputs": [
        {
          "output_type": "execute_result",
          "data": {
            "text/plain": [
              "                                          text  sentiment  \\\n",
              "0   sooo sad i will miss you here in san diego          0   \n",
              "1                       my boss is bullying me          0   \n",
              "\n",
              "                               Tokenised_text  \\\n",
              "0  sooo sad i will miss you here in san diego   \n",
              "1                      my boss is bullying me   \n",
              "\n",
              "                                    Stem_Text  \n",
              "0  sooo sad i will miss you here in san diego  \n",
              "1                         my boss is bulli me  "
            ],
            "text/html": [
              "\n",
              "  <div id=\"df-89e8837a-6bf6-4ddc-8e0f-c4b678f9e3c6\">\n",
              "    <div class=\"colab-df-container\">\n",
              "      <div>\n",
              "<style scoped>\n",
              "    .dataframe tbody tr th:only-of-type {\n",
              "        vertical-align: middle;\n",
              "    }\n",
              "\n",
              "    .dataframe tbody tr th {\n",
              "        vertical-align: top;\n",
              "    }\n",
              "\n",
              "    .dataframe thead th {\n",
              "        text-align: right;\n",
              "    }\n",
              "</style>\n",
              "<table border=\"1\" class=\"dataframe\">\n",
              "  <thead>\n",
              "    <tr style=\"text-align: right;\">\n",
              "      <th></th>\n",
              "      <th>text</th>\n",
              "      <th>sentiment</th>\n",
              "      <th>Tokenised_text</th>\n",
              "      <th>Stem_Text</th>\n",
              "    </tr>\n",
              "  </thead>\n",
              "  <tbody>\n",
              "    <tr>\n",
              "      <th>0</th>\n",
              "      <td>sooo sad i will miss you here in san diego</td>\n",
              "      <td>0</td>\n",
              "      <td>sooo sad i will miss you here in san diego</td>\n",
              "      <td>sooo sad i will miss you here in san diego</td>\n",
              "    </tr>\n",
              "    <tr>\n",
              "      <th>1</th>\n",
              "      <td>my boss is bullying me</td>\n",
              "      <td>0</td>\n",
              "      <td>my boss is bullying me</td>\n",
              "      <td>my boss is bulli me</td>\n",
              "    </tr>\n",
              "  </tbody>\n",
              "</table>\n",
              "</div>\n",
              "      <button class=\"colab-df-convert\" onclick=\"convertToInteractive('df-89e8837a-6bf6-4ddc-8e0f-c4b678f9e3c6')\"\n",
              "              title=\"Convert this dataframe to an interactive table.\"\n",
              "              style=\"display:none;\">\n",
              "        \n",
              "  <svg xmlns=\"http://www.w3.org/2000/svg\" height=\"24px\"viewBox=\"0 0 24 24\"\n",
              "       width=\"24px\">\n",
              "    <path d=\"M0 0h24v24H0V0z\" fill=\"none\"/>\n",
              "    <path d=\"M18.56 5.44l.94 2.06.94-2.06 2.06-.94-2.06-.94-.94-2.06-.94 2.06-2.06.94zm-11 1L8.5 8.5l.94-2.06 2.06-.94-2.06-.94L8.5 2.5l-.94 2.06-2.06.94zm10 10l.94 2.06.94-2.06 2.06-.94-2.06-.94-.94-2.06-.94 2.06-2.06.94z\"/><path d=\"M17.41 7.96l-1.37-1.37c-.4-.4-.92-.59-1.43-.59-.52 0-1.04.2-1.43.59L10.3 9.45l-7.72 7.72c-.78.78-.78 2.05 0 2.83L4 21.41c.39.39.9.59 1.41.59.51 0 1.02-.2 1.41-.59l7.78-7.78 2.81-2.81c.8-.78.8-2.07 0-2.86zM5.41 20L4 18.59l7.72-7.72 1.47 1.35L5.41 20z\"/>\n",
              "  </svg>\n",
              "      </button>\n",
              "      \n",
              "  <style>\n",
              "    .colab-df-container {\n",
              "      display:flex;\n",
              "      flex-wrap:wrap;\n",
              "      gap: 12px;\n",
              "    }\n",
              "\n",
              "    .colab-df-convert {\n",
              "      background-color: #E8F0FE;\n",
              "      border: none;\n",
              "      border-radius: 50%;\n",
              "      cursor: pointer;\n",
              "      display: none;\n",
              "      fill: #1967D2;\n",
              "      height: 32px;\n",
              "      padding: 0 0 0 0;\n",
              "      width: 32px;\n",
              "    }\n",
              "\n",
              "    .colab-df-convert:hover {\n",
              "      background-color: #E2EBFA;\n",
              "      box-shadow: 0px 1px 2px rgba(60, 64, 67, 0.3), 0px 1px 3px 1px rgba(60, 64, 67, 0.15);\n",
              "      fill: #174EA6;\n",
              "    }\n",
              "\n",
              "    [theme=dark] .colab-df-convert {\n",
              "      background-color: #3B4455;\n",
              "      fill: #D2E3FC;\n",
              "    }\n",
              "\n",
              "    [theme=dark] .colab-df-convert:hover {\n",
              "      background-color: #434B5C;\n",
              "      box-shadow: 0px 1px 3px 1px rgba(0, 0, 0, 0.15);\n",
              "      filter: drop-shadow(0px 1px 2px rgba(0, 0, 0, 0.3));\n",
              "      fill: #FFFFFF;\n",
              "    }\n",
              "  </style>\n",
              "\n",
              "      <script>\n",
              "        const buttonEl =\n",
              "          document.querySelector('#df-89e8837a-6bf6-4ddc-8e0f-c4b678f9e3c6 button.colab-df-convert');\n",
              "        buttonEl.style.display =\n",
              "          google.colab.kernel.accessAllowed ? 'block' : 'none';\n",
              "\n",
              "        async function convertToInteractive(key) {\n",
              "          const element = document.querySelector('#df-89e8837a-6bf6-4ddc-8e0f-c4b678f9e3c6');\n",
              "          const dataTable =\n",
              "            await google.colab.kernel.invokeFunction('convertToInteractive',\n",
              "                                                     [key], {});\n",
              "          if (!dataTable) return;\n",
              "\n",
              "          const docLinkHtml = 'Like what you see? Visit the ' +\n",
              "            '<a target=\"_blank\" href=https://colab.research.google.com/notebooks/data_table.ipynb>data table notebook</a>'\n",
              "            + ' to learn more about interactive tables.';\n",
              "          element.innerHTML = '';\n",
              "          dataTable['output_type'] = 'display_data';\n",
              "          await google.colab.output.renderOutput(dataTable, element);\n",
              "          const docLink = document.createElement('div');\n",
              "          docLink.innerHTML = docLinkHtml;\n",
              "          element.appendChild(docLink);\n",
              "        }\n",
              "      </script>\n",
              "    </div>\n",
              "  </div>\n",
              "  "
            ]
          },
          "metadata": {},
          "execution_count": 12
        }
      ],
      "source": [
        "# Stemming \n",
        "\n",
        "Stem = PorterStemmer()\n",
        "\n",
        "Stemming = []\n",
        "for token in Token_words:\n",
        "  Stem_Token = [Stem.stem(word) for word in token ] \n",
        "  Join_Stem_Token = ' '.join(Stem_Token)\n",
        "  Stemming.append(Join_Stem_Token)\n",
        "\n",
        "df_sentimentalDS['Stem_Text'] = Stemming\n",
        "df_sentimentalDS.head(2)"
      ]
    },
    {
      "cell_type": "code",
      "execution_count": 13,
      "metadata": {
        "colab": {
          "base_uri": "https://localhost:8080/",
          "height": 0
        },
        "id": "iLCoLe2XBrsU",
        "outputId": "b5fe4a27-ff44-430a-ac4c-3bea21f8e232"
      },
      "outputs": [
        {
          "output_type": "execute_result",
          "data": {
            "text/plain": [
              "                                          text  sentiment  \\\n",
              "0   sooo sad i will miss you here in san diego          0   \n",
              "1                       my boss is bullying me          0   \n",
              "\n",
              "                               Tokenised_text  \\\n",
              "0  sooo sad i will miss you here in san diego   \n",
              "1                      my boss is bullying me   \n",
              "\n",
              "                                    Stem_Text  \\\n",
              "0  sooo sad i will miss you here in san diego   \n",
              "1                         my boss is bulli me   \n",
              "\n",
              "                                   Lemma_text  \n",
              "0  sooo sad i will miss you here in san diego  \n",
              "1                       my bos is bullying me  "
            ],
            "text/html": [
              "\n",
              "  <div id=\"df-c210a999-23b5-4de0-9422-23c649f22339\">\n",
              "    <div class=\"colab-df-container\">\n",
              "      <div>\n",
              "<style scoped>\n",
              "    .dataframe tbody tr th:only-of-type {\n",
              "        vertical-align: middle;\n",
              "    }\n",
              "\n",
              "    .dataframe tbody tr th {\n",
              "        vertical-align: top;\n",
              "    }\n",
              "\n",
              "    .dataframe thead th {\n",
              "        text-align: right;\n",
              "    }\n",
              "</style>\n",
              "<table border=\"1\" class=\"dataframe\">\n",
              "  <thead>\n",
              "    <tr style=\"text-align: right;\">\n",
              "      <th></th>\n",
              "      <th>text</th>\n",
              "      <th>sentiment</th>\n",
              "      <th>Tokenised_text</th>\n",
              "      <th>Stem_Text</th>\n",
              "      <th>Lemma_text</th>\n",
              "    </tr>\n",
              "  </thead>\n",
              "  <tbody>\n",
              "    <tr>\n",
              "      <th>0</th>\n",
              "      <td>sooo sad i will miss you here in san diego</td>\n",
              "      <td>0</td>\n",
              "      <td>sooo sad i will miss you here in san diego</td>\n",
              "      <td>sooo sad i will miss you here in san diego</td>\n",
              "      <td>sooo sad i will miss you here in san diego</td>\n",
              "    </tr>\n",
              "    <tr>\n",
              "      <th>1</th>\n",
              "      <td>my boss is bullying me</td>\n",
              "      <td>0</td>\n",
              "      <td>my boss is bullying me</td>\n",
              "      <td>my boss is bulli me</td>\n",
              "      <td>my bos is bullying me</td>\n",
              "    </tr>\n",
              "  </tbody>\n",
              "</table>\n",
              "</div>\n",
              "      <button class=\"colab-df-convert\" onclick=\"convertToInteractive('df-c210a999-23b5-4de0-9422-23c649f22339')\"\n",
              "              title=\"Convert this dataframe to an interactive table.\"\n",
              "              style=\"display:none;\">\n",
              "        \n",
              "  <svg xmlns=\"http://www.w3.org/2000/svg\" height=\"24px\"viewBox=\"0 0 24 24\"\n",
              "       width=\"24px\">\n",
              "    <path d=\"M0 0h24v24H0V0z\" fill=\"none\"/>\n",
              "    <path d=\"M18.56 5.44l.94 2.06.94-2.06 2.06-.94-2.06-.94-.94-2.06-.94 2.06-2.06.94zm-11 1L8.5 8.5l.94-2.06 2.06-.94-2.06-.94L8.5 2.5l-.94 2.06-2.06.94zm10 10l.94 2.06.94-2.06 2.06-.94-2.06-.94-.94-2.06-.94 2.06-2.06.94z\"/><path d=\"M17.41 7.96l-1.37-1.37c-.4-.4-.92-.59-1.43-.59-.52 0-1.04.2-1.43.59L10.3 9.45l-7.72 7.72c-.78.78-.78 2.05 0 2.83L4 21.41c.39.39.9.59 1.41.59.51 0 1.02-.2 1.41-.59l7.78-7.78 2.81-2.81c.8-.78.8-2.07 0-2.86zM5.41 20L4 18.59l7.72-7.72 1.47 1.35L5.41 20z\"/>\n",
              "  </svg>\n",
              "      </button>\n",
              "      \n",
              "  <style>\n",
              "    .colab-df-container {\n",
              "      display:flex;\n",
              "      flex-wrap:wrap;\n",
              "      gap: 12px;\n",
              "    }\n",
              "\n",
              "    .colab-df-convert {\n",
              "      background-color: #E8F0FE;\n",
              "      border: none;\n",
              "      border-radius: 50%;\n",
              "      cursor: pointer;\n",
              "      display: none;\n",
              "      fill: #1967D2;\n",
              "      height: 32px;\n",
              "      padding: 0 0 0 0;\n",
              "      width: 32px;\n",
              "    }\n",
              "\n",
              "    .colab-df-convert:hover {\n",
              "      background-color: #E2EBFA;\n",
              "      box-shadow: 0px 1px 2px rgba(60, 64, 67, 0.3), 0px 1px 3px 1px rgba(60, 64, 67, 0.15);\n",
              "      fill: #174EA6;\n",
              "    }\n",
              "\n",
              "    [theme=dark] .colab-df-convert {\n",
              "      background-color: #3B4455;\n",
              "      fill: #D2E3FC;\n",
              "    }\n",
              "\n",
              "    [theme=dark] .colab-df-convert:hover {\n",
              "      background-color: #434B5C;\n",
              "      box-shadow: 0px 1px 3px 1px rgba(0, 0, 0, 0.15);\n",
              "      filter: drop-shadow(0px 1px 2px rgba(0, 0, 0, 0.3));\n",
              "      fill: #FFFFFF;\n",
              "    }\n",
              "  </style>\n",
              "\n",
              "      <script>\n",
              "        const buttonEl =\n",
              "          document.querySelector('#df-c210a999-23b5-4de0-9422-23c649f22339 button.colab-df-convert');\n",
              "        buttonEl.style.display =\n",
              "          google.colab.kernel.accessAllowed ? 'block' : 'none';\n",
              "\n",
              "        async function convertToInteractive(key) {\n",
              "          const element = document.querySelector('#df-c210a999-23b5-4de0-9422-23c649f22339');\n",
              "          const dataTable =\n",
              "            await google.colab.kernel.invokeFunction('convertToInteractive',\n",
              "                                                     [key], {});\n",
              "          if (!dataTable) return;\n",
              "\n",
              "          const docLinkHtml = 'Like what you see? Visit the ' +\n",
              "            '<a target=\"_blank\" href=https://colab.research.google.com/notebooks/data_table.ipynb>data table notebook</a>'\n",
              "            + ' to learn more about interactive tables.';\n",
              "          element.innerHTML = '';\n",
              "          dataTable['output_type'] = 'display_data';\n",
              "          await google.colab.output.renderOutput(dataTable, element);\n",
              "          const docLink = document.createElement('div');\n",
              "          docLink.innerHTML = docLinkHtml;\n",
              "          element.appendChild(docLink);\n",
              "        }\n",
              "      </script>\n",
              "    </div>\n",
              "  </div>\n",
              "  "
            ]
          },
          "metadata": {},
          "execution_count": 13
        }
      ],
      "source": [
        "# Lemmatization\n",
        "\n",
        "WordLemma = WordNetLemmatizer()\n",
        "Lemma_sentences = []\n",
        "\n",
        "# iterate through each list of tokens and lemmatise the tokens\n",
        "for tokens in Token_words:\n",
        "  Lemma_Words = [WordLemma.lemmatize(word) for word in tokens]\n",
        "  Join_Lemma_Words = ' '.join(Lemma_Words)\n",
        "  Lemma_sentences.append(Join_Lemma_Words)\n",
        "\n",
        "df_sentimentalDS['Lemma_text'] = Lemma_sentences\n",
        "df_sentimentalDS.head(2)"
      ]
    },
    {
      "cell_type": "code",
      "execution_count": 14,
      "metadata": {
        "colab": {
          "base_uri": "https://localhost:8080/",
          "height": 0
        },
        "id": "xsk06wLDVx7_",
        "outputId": "5fc0fdaf-3b15-4e1d-a070-5c00ccc9a6c8"
      },
      "outputs": [
        {
          "output_type": "execute_result",
          "data": {
            "text/plain": [
              "                                                text  sentiment  \\\n",
              "0         sooo sad i will miss you here in san diego          0   \n",
              "1                             my boss is bullying me          0   \n",
              "2                      what interview leave me alone          0   \n",
              "3   sons of  why couldnt they put them on the rel...          0   \n",
              "\n",
              "                                      Tokenised_text  \\\n",
              "0         sooo sad i will miss you here in san diego   \n",
              "1                             my boss is bullying me   \n",
              "2                      what interview leave me alone   \n",
              "3  sons of why couldnt they put them on the relea...   \n",
              "\n",
              "                                           Stem_Text  \\\n",
              "0         sooo sad i will miss you here in san diego   \n",
              "1                                my boss is bulli me   \n",
              "2                        what interview leav me alon   \n",
              "3  son of whi couldnt they put them on the releas...   \n",
              "\n",
              "                                          Lemma_text  \n",
              "0         sooo sad i will miss you here in san diego  \n",
              "1                              my bos is bullying me  \n",
              "2                      what interview leave me alone  \n",
              "3  son of why couldnt they put them on the releas...  "
            ],
            "text/html": [
              "\n",
              "  <div id=\"df-516acfd6-403f-46f0-b890-b352e2731a8b\">\n",
              "    <div class=\"colab-df-container\">\n",
              "      <div>\n",
              "<style scoped>\n",
              "    .dataframe tbody tr th:only-of-type {\n",
              "        vertical-align: middle;\n",
              "    }\n",
              "\n",
              "    .dataframe tbody tr th {\n",
              "        vertical-align: top;\n",
              "    }\n",
              "\n",
              "    .dataframe thead th {\n",
              "        text-align: right;\n",
              "    }\n",
              "</style>\n",
              "<table border=\"1\" class=\"dataframe\">\n",
              "  <thead>\n",
              "    <tr style=\"text-align: right;\">\n",
              "      <th></th>\n",
              "      <th>text</th>\n",
              "      <th>sentiment</th>\n",
              "      <th>Tokenised_text</th>\n",
              "      <th>Stem_Text</th>\n",
              "      <th>Lemma_text</th>\n",
              "    </tr>\n",
              "  </thead>\n",
              "  <tbody>\n",
              "    <tr>\n",
              "      <th>0</th>\n",
              "      <td>sooo sad i will miss you here in san diego</td>\n",
              "      <td>0</td>\n",
              "      <td>sooo sad i will miss you here in san diego</td>\n",
              "      <td>sooo sad i will miss you here in san diego</td>\n",
              "      <td>sooo sad i will miss you here in san diego</td>\n",
              "    </tr>\n",
              "    <tr>\n",
              "      <th>1</th>\n",
              "      <td>my boss is bullying me</td>\n",
              "      <td>0</td>\n",
              "      <td>my boss is bullying me</td>\n",
              "      <td>my boss is bulli me</td>\n",
              "      <td>my bos is bullying me</td>\n",
              "    </tr>\n",
              "    <tr>\n",
              "      <th>2</th>\n",
              "      <td>what interview leave me alone</td>\n",
              "      <td>0</td>\n",
              "      <td>what interview leave me alone</td>\n",
              "      <td>what interview leav me alon</td>\n",
              "      <td>what interview leave me alone</td>\n",
              "    </tr>\n",
              "    <tr>\n",
              "      <th>3</th>\n",
              "      <td>sons of  why couldnt they put them on the rel...</td>\n",
              "      <td>0</td>\n",
              "      <td>sons of why couldnt they put them on the relea...</td>\n",
              "      <td>son of whi couldnt they put them on the releas...</td>\n",
              "      <td>son of why couldnt they put them on the releas...</td>\n",
              "    </tr>\n",
              "  </tbody>\n",
              "</table>\n",
              "</div>\n",
              "      <button class=\"colab-df-convert\" onclick=\"convertToInteractive('df-516acfd6-403f-46f0-b890-b352e2731a8b')\"\n",
              "              title=\"Convert this dataframe to an interactive table.\"\n",
              "              style=\"display:none;\">\n",
              "        \n",
              "  <svg xmlns=\"http://www.w3.org/2000/svg\" height=\"24px\"viewBox=\"0 0 24 24\"\n",
              "       width=\"24px\">\n",
              "    <path d=\"M0 0h24v24H0V0z\" fill=\"none\"/>\n",
              "    <path d=\"M18.56 5.44l.94 2.06.94-2.06 2.06-.94-2.06-.94-.94-2.06-.94 2.06-2.06.94zm-11 1L8.5 8.5l.94-2.06 2.06-.94-2.06-.94L8.5 2.5l-.94 2.06-2.06.94zm10 10l.94 2.06.94-2.06 2.06-.94-2.06-.94-.94-2.06-.94 2.06-2.06.94z\"/><path d=\"M17.41 7.96l-1.37-1.37c-.4-.4-.92-.59-1.43-.59-.52 0-1.04.2-1.43.59L10.3 9.45l-7.72 7.72c-.78.78-.78 2.05 0 2.83L4 21.41c.39.39.9.59 1.41.59.51 0 1.02-.2 1.41-.59l7.78-7.78 2.81-2.81c.8-.78.8-2.07 0-2.86zM5.41 20L4 18.59l7.72-7.72 1.47 1.35L5.41 20z\"/>\n",
              "  </svg>\n",
              "      </button>\n",
              "      \n",
              "  <style>\n",
              "    .colab-df-container {\n",
              "      display:flex;\n",
              "      flex-wrap:wrap;\n",
              "      gap: 12px;\n",
              "    }\n",
              "\n",
              "    .colab-df-convert {\n",
              "      background-color: #E8F0FE;\n",
              "      border: none;\n",
              "      border-radius: 50%;\n",
              "      cursor: pointer;\n",
              "      display: none;\n",
              "      fill: #1967D2;\n",
              "      height: 32px;\n",
              "      padding: 0 0 0 0;\n",
              "      width: 32px;\n",
              "    }\n",
              "\n",
              "    .colab-df-convert:hover {\n",
              "      background-color: #E2EBFA;\n",
              "      box-shadow: 0px 1px 2px rgba(60, 64, 67, 0.3), 0px 1px 3px 1px rgba(60, 64, 67, 0.15);\n",
              "      fill: #174EA6;\n",
              "    }\n",
              "\n",
              "    [theme=dark] .colab-df-convert {\n",
              "      background-color: #3B4455;\n",
              "      fill: #D2E3FC;\n",
              "    }\n",
              "\n",
              "    [theme=dark] .colab-df-convert:hover {\n",
              "      background-color: #434B5C;\n",
              "      box-shadow: 0px 1px 3px 1px rgba(0, 0, 0, 0.15);\n",
              "      filter: drop-shadow(0px 1px 2px rgba(0, 0, 0, 0.3));\n",
              "      fill: #FFFFFF;\n",
              "    }\n",
              "  </style>\n",
              "\n",
              "      <script>\n",
              "        const buttonEl =\n",
              "          document.querySelector('#df-516acfd6-403f-46f0-b890-b352e2731a8b button.colab-df-convert');\n",
              "        buttonEl.style.display =\n",
              "          google.colab.kernel.accessAllowed ? 'block' : 'none';\n",
              "\n",
              "        async function convertToInteractive(key) {\n",
              "          const element = document.querySelector('#df-516acfd6-403f-46f0-b890-b352e2731a8b');\n",
              "          const dataTable =\n",
              "            await google.colab.kernel.invokeFunction('convertToInteractive',\n",
              "                                                     [key], {});\n",
              "          if (!dataTable) return;\n",
              "\n",
              "          const docLinkHtml = 'Like what you see? Visit the ' +\n",
              "            '<a target=\"_blank\" href=https://colab.research.google.com/notebooks/data_table.ipynb>data table notebook</a>'\n",
              "            + ' to learn more about interactive tables.';\n",
              "          element.innerHTML = '';\n",
              "          dataTable['output_type'] = 'display_data';\n",
              "          await google.colab.output.renderOutput(dataTable, element);\n",
              "          const docLink = document.createElement('div');\n",
              "          docLink.innerHTML = docLinkHtml;\n",
              "          element.appendChild(docLink);\n",
              "        }\n",
              "      </script>\n",
              "    </div>\n",
              "  </div>\n",
              "  "
            ]
          },
          "metadata": {},
          "execution_count": 14
        }
      ],
      "source": [
        "df_sentimentalDS.head(4)"
      ]
    },
    {
      "cell_type": "markdown",
      "metadata": {
        "id": "0lmFg-SzWyWX"
      },
      "source": [
        "# Model Generation using the Count Vectorization method and SVM algorithm\n",
        "\n"
      ]
    },
    {
      "cell_type": "markdown",
      "metadata": {
        "id": "jOF-is3QW-FJ"
      },
      "source": [
        "Models:\n",
        "  1.  Raw Text\n",
        "  2.  Tokenised Text\n",
        "  3.  Stemming Text\n",
        "  4.  Lemmatization Text\n",
        "\n",
        "To Find accuracy algorithm used:\n",
        "  *   Support Vector Machine (SVM)\n",
        "\n",
        "\n"
      ]
    },
    {
      "cell_type": "code",
      "execution_count": 15,
      "metadata": {
        "id": "CAgHHmiIjcuU"
      },
      "outputs": [],
      "source": [
        "# Defination of SVM Algorithm with plotting the graph.\n",
        "\n",
        "def Perform_SVM(X_train_text,X_val_text, Y_train, Y_test):\n",
        "  \n",
        "# convert train and test text data to numeric vectors\n",
        "  X_train = vectorizer.transform(X_train_text)\n",
        "  X_test = vectorizer.transform(X_val_text)\n",
        "\n",
        "\n",
        "  clf = svm.SVC(kernel='linear', random_state=100) \n",
        "  clf.fit(X_train, Y_train)\n",
        "\n",
        "  # Make predictions on test data\n",
        "  Y_pred = clf.predict(X_test)\n",
        "  accuracy = metrics.accuracy_score(Y_test, Y_pred)\n",
        "  confusion_matrix = metrics.confusion_matrix(Y_test, Y_pred)\n",
        "  print(f'Accuracy: {accuracy * 100}')\n",
        "\n",
        "  print(f'confusion_matrix: \\n')\n",
        "  print(confusion_matrix)\n",
        "  print('\\n')\n",
        "\n",
        "  plt.title(' Confusion Matrix')\n",
        "  sns.heatmap(confusion_matrix , annot = True)\n",
        "  plt.show()\n",
        "  return accuracy * 100 , clf\n"
      ]
    },
    {
      "cell_type": "markdown",
      "metadata": {
        "id": "WNkPAy97YFTQ"
      },
      "source": [
        "## Model One"
      ]
    },
    {
      "cell_type": "code",
      "execution_count": 16,
      "metadata": {
        "colab": {
          "base_uri": "https://localhost:8080/",
          "height": 0
        },
        "id": "tFXXGbXPZgU8",
        "outputId": "9b82cde4-f83f-428b-9a77-2ad22174b353"
      },
      "outputs": [
        {
          "output_type": "stream",
          "name": "stdout",
          "text": [
            "Accuracy: 85.59788144224893\n",
            "confusion_matrix: \n",
            "\n",
            "[[2030  368]\n",
            " [ 339 2172]]\n",
            "\n",
            "\n"
          ]
        },
        {
          "output_type": "display_data",
          "data": {
            "text/plain": [
              "<Figure size 432x288 with 2 Axes>"
            ],
            "image/png": "[encoded data removed]"
          },
          "metadata": {
            "needs_background": "light"
          }
        }
      ],
      "source": [
        "# Train Test Split for the model 1 [Raw Text]\n",
        "\n",
        "x_train, x_test, y_train, y_test = train_test_split(df_sentimentalDS['text'] ,  df_sentimentalDS['sentiment'],\n",
        "                                   test_size=0.3, random_state = 100 )\n",
        "\n",
        "\n",
        "\n",
        "vectorizer = CountVectorizer()  # default: lowercase=True, ngram_range=(1,1)\n",
        "vectorizer.fit(x_train)\n",
        "vectorizer.fit(x_test)\n",
        "\n",
        "CV_M1_Accuracy, CV_M1 = Perform_SVM(x_train, x_test, y_train, y_test )\n"
      ]
    },
    {
      "cell_type": "markdown",
      "source": [
        "## Model Two\n"
      ],
      "metadata": {
        "id": "RvWixq-Bw8wW"
      }
    },
    {
      "cell_type": "code",
      "source": [
        "# Train Test Split for the model 1 [Raw Text]\n",
        "\n",
        "x_train, x_test, y_train, y_test = train_test_split(df_sentimentalDS['Tokenised_text'] ,  df_sentimentalDS['sentiment'],\n",
        "                                   test_size=0.3, random_state = 100 )\n",
        "\n",
        "\n",
        "\n",
        "vectorizer = CountVectorizer()  # default: lowercase=True, ngram_range=(1,1)\n",
        "vectorizer.fit(x_train)\n",
        "vectorizer.fit(x_test)\n",
        "\n",
        "CV_M2_Accuracy, CV_M2 = Perform_SVM(x_train, x_test, y_train, y_test )\n"
      ],
      "metadata": {
        "colab": {
          "base_uri": "https://localhost:8080/",
          "height": 0
        },
        "id": "GTj0K38cx34q",
        "outputId": "2488889f-4905-479b-948a-b7a1e03cbd73"
      },
      "execution_count": 17,
      "outputs": [
        {
          "output_type": "stream",
          "name": "stdout",
          "text": [
            "Accuracy: 85.86270116113262\n",
            "confusion_matrix: \n",
            "\n",
            "[[2034  364]\n",
            " [ 330 2181]]\n",
            "\n",
            "\n"
          ]
        },
        {
          "output_type": "display_data",
          "data": {
            "text/plain": [
              "<Figure size 432x288 with 2 Axes>"
            ],
            "image/png": "[encoded data removed]"
          },
          "metadata": {
            "needs_background": "light"
          }
        }
      ]
    },
    {
      "cell_type": "markdown",
      "source": [
        "## Model Three"
      ],
      "metadata": {
        "id": "QNC2Hcocxluq"
      }
    },
    {
      "cell_type": "code",
      "execution_count": 18,
      "metadata": {
        "id": "YsLnHg-SW4kg",
        "colab": {
          "base_uri": "https://localhost:8080/",
          "height": 0
        },
        "outputId": "234cc01c-c749-4476-a0ad-f7bc6d450b63"
      },
      "outputs": [
        {
          "output_type": "stream",
          "name": "stdout",
          "text": [
            "Accuracy: 85.92381340395193\n",
            "confusion_matrix: \n",
            "\n",
            "[[2041  357]\n",
            " [ 334 2177]]\n",
            "\n",
            "\n"
          ]
        },
        {
          "output_type": "display_data",
          "data": {
            "text/plain": [
              "<Figure size 432x288 with 2 Axes>"
            ],
            "image/png": "[encoded data removed]"
          },
          "metadata": {
            "needs_background": "light"
          }
        }
      ],
      "source": [
        "# Train Test Split for the model 1 [Raw Text]\n",
        "\n",
        "x_train, x_test, y_train, y_test = train_test_split(df_sentimentalDS['Stem_Text'] ,  df_sentimentalDS['sentiment'],\n",
        "                                   test_size=0.3, random_state = 100 )\n",
        "\n",
        "\n",
        "\n",
        "vectorizer = CountVectorizer()  # default: lowercase=True, ngram_range=(1,1)\n",
        "vectorizer.fit(x_train)\n",
        "vectorizer.fit(x_test)\n",
        "\n",
        "CV_M3_Accuracy, CV_M3 = Perform_SVM(x_train, x_test, y_train, y_test )\n"
      ]
    },
    {
      "cell_type": "markdown",
      "source": [
        "## Model Four"
      ],
      "metadata": {
        "id": "M4adrp_fyApl"
      }
    },
    {
      "cell_type": "code",
      "execution_count": 19,
      "metadata": {
        "colab": {
          "base_uri": "https://localhost:8080/",
          "height": 0
        },
        "outputId": "2de69862-2ad1-4191-d4a1-9c0823008097",
        "id": "FbBeSHcDyFbw"
      },
      "outputs": [
        {
          "output_type": "stream",
          "name": "stdout",
          "text": [
            "Accuracy: 86.06640863719699\n",
            "confusion_matrix: \n",
            "\n",
            "[[2061  337]\n",
            " [ 347 2164]]\n",
            "\n",
            "\n"
          ]
        },
        {
          "output_type": "display_data",
          "data": {
            "text/plain": [
              "<Figure size 432x288 with 2 Axes>"
            ],
            "image/png": "[encoded data removed]"
          },
          "metadata": {
            "needs_background": "light"
          }
        }
      ],
      "source": [
        "# Train Test Split for the model 1 [Raw Text]\n",
        "\n",
        "x_train, x_test, y_train, y_test = train_test_split(df_sentimentalDS['Lemma_text'] ,  df_sentimentalDS['sentiment'],\n",
        "                                   test_size=0.3, random_state = 100 )\n",
        "\n",
        "\n",
        "\n",
        "vectorizer = CountVectorizer()  # default: lowercase=True, ngram_range=(1,1)\n",
        "vectorizer.fit(x_train)\n",
        "vectorizer.fit(x_test)\n",
        "\n",
        "CV_M4_Accuracy, CV_M4 = Perform_SVM(x_train, x_test, y_train, y_test )\n"
      ]
    },
    {
      "cell_type": "code",
      "source": [
        "# Accuracy for all the 4 models \n",
        "print('Model Accuracy using the Count vectorization Method and SVM Algoritm')\n",
        "print(f'Model 1 Accuracy {CV_M1_Accuracy:.3f} ')\n",
        "print(f'Model 2 Accuracy {CV_M2_Accuracy:.3f} ')\n",
        "print(f'Model 3 Accuracy {CV_M3_Accuracy:.3f} ')\n",
        "print(f'Model 4 Accuracy {CV_M4_Accuracy:.3f} ')\n"
      ],
      "metadata": {
        "colab": {
          "base_uri": "https://localhost:8080/"
        },
        "id": "ZhgCO6MIyzR4",
        "outputId": "ac09f0f1-7818-417a-e167-8c273cca6953"
      },
      "execution_count": 20,
      "outputs": [
        {
          "output_type": "stream",
          "name": "stdout",
          "text": [
            "Model Accuracy using the Count vectorization Method and SVM Algoritm\n",
            "Model 1 Accuracy 85.598 \n",
            "Model 2 Accuracy 85.863 \n",
            "Model 3 Accuracy 85.924 \n",
            "Model 4 Accuracy 86.066 \n"
          ]
        }
      ]
    },
    {
      "cell_type": "markdown",
      "source": [
        "# Model Generation using the TF-IDF method and SVM algorithm"
      ],
      "metadata": {
        "id": "JTDfYY3z1I5I"
      }
    },
    {
      "cell_type": "markdown",
      "source": [
        "## Model One"
      ],
      "metadata": {
        "id": "bNWKhmaf1Sfu"
      }
    },
    {
      "cell_type": "code",
      "source": [
        "# Train Test Split for the model 1 [Raw Text]\n",
        "\n",
        "x_train, x_test, y_train, y_test = train_test_split(df_sentimentalDS['text'] ,  df_sentimentalDS['sentiment'],\n",
        "                                   test_size=0.3, random_state = 100 )\n",
        "\n",
        "\n",
        "\n",
        "vectorizer = TfidfVectorizer()   # default: lowercase=True, ngram_range=(1,1)\n",
        "vectorizer.fit(x_train)\n",
        "vectorizer.fit(x_test)\n",
        "\n",
        "TF_IDF_M1_Accuracy, TF_IDF_M1 = Perform_SVM(x_train, x_test, y_train, y_test )\n"
      ],
      "metadata": {
        "colab": {
          "base_uri": "https://localhost:8080/",
          "height": 0
        },
        "id": "gfDdtU3W3dQa",
        "outputId": "96c03908-66af-494f-f14b-eb62867eb523"
      },
      "execution_count": 21,
      "outputs": [
        {
          "output_type": "stream",
          "name": "stdout",
          "text": [
            "Accuracy: 86.71827256060297\n",
            "confusion_matrix: \n",
            "\n",
            "[[2095  303]\n",
            " [ 349 2162]]\n",
            "\n",
            "\n"
          ]
        },
        {
          "output_type": "display_data",
          "data": {
            "text/plain": [
              "<Figure size 432x288 with 2 Axes>"
            ],
            "image/png": "[encoded data removed]"
          },
          "metadata": {
            "needs_background": "light"
          }
        }
      ]
    },
    {
      "cell_type": "markdown",
      "source": [
        "## Model Two"
      ],
      "metadata": {
        "id": "ICie-wah1gtW"
      }
    },
    {
      "cell_type": "code",
      "source": [
        "# Train Test Split for the model 1 [Raw Text]\n",
        "\n",
        "x_train, x_test, y_train, y_test = train_test_split(df_sentimentalDS['Tokenised_text'] ,  df_sentimentalDS['sentiment'],\n",
        "                                   test_size=0.3, random_state = 100 )\n",
        "\n",
        "\n",
        "\n",
        "vectorizer = TfidfVectorizer()  # default: lowercase=True, ngram_range=(1,1)\n",
        "vectorizer.fit(x_train)\n",
        "vectorizer.fit(x_test)\n",
        "\n",
        "TF_IDF_M2_Accuracy, TF_IDF_M2 = Perform_SVM(x_train, x_test, y_train, y_test )\n"
      ],
      "metadata": {
        "colab": {
          "base_uri": "https://localhost:8080/",
          "height": 0
        },
        "id": "CA0lmh4m43Qw",
        "outputId": "002e4222-4908-4ad2-cc7b-a91e57e9fa3f"
      },
      "execution_count": 22,
      "outputs": [
        {
          "output_type": "stream",
          "name": "stdout",
          "text": [
            "Accuracy: 86.69790181299653\n",
            "confusion_matrix: \n",
            "\n",
            "[[2094  304]\n",
            " [ 349 2162]]\n",
            "\n",
            "\n"
          ]
        },
        {
          "output_type": "display_data",
          "data": {
            "text/plain": [
              "<Figure size 432x288 with 2 Axes>"
            ],
            "image/png": "[encoded data removed]"
          },
          "metadata": {
            "needs_background": "light"
          }
        }
      ]
    },
    {
      "cell_type": "markdown",
      "source": [
        "## Model Three\n"
      ],
      "metadata": {
        "id": "TiW-h-NN1qfY"
      }
    },
    {
      "cell_type": "code",
      "source": [
        "df_sentimentalDS.columns\n"
      ],
      "metadata": {
        "colab": {
          "base_uri": "https://localhost:8080/"
        },
        "id": "8l4HicS-5Ces",
        "outputId": "a593d24a-4b90-4d80-dbe0-7626a079abb2"
      },
      "execution_count": 23,
      "outputs": [
        {
          "output_type": "execute_result",
          "data": {
            "text/plain": [
              "Index(['text', 'sentiment', 'Tokenised_text', 'Stem_Text', 'Lemma_text'], dtype='object')"
            ]
          },
          "metadata": {},
          "execution_count": 23
        }
      ]
    },
    {
      "cell_type": "code",
      "source": [
        "# Train Test Split for the model 1 [Raw Text]\n",
        "\n",
        "x_train, x_test, y_train, y_test = train_test_split(df_sentimentalDS['Stem_Text'] ,  df_sentimentalDS['sentiment'],\n",
        "                                   test_size=0.3, random_state = 100 )\n",
        "\n",
        "\n",
        "\n",
        "vectorizer = TfidfVectorizer()  # default: lowercase=True, ngram_range=(1,1)\n",
        "vectorizer.fit(x_train)\n",
        "vectorizer.fit(x_test)\n",
        "\n",
        "TF_IDF_M3_Accuracy, TF_IDF_M3 = Perform_SVM(x_train, x_test, y_train, y_test )\n"
      ],
      "metadata": {
        "colab": {
          "base_uri": "https://localhost:8080/",
          "height": 0
        },
        "id": "tsiJnvX84-lM",
        "outputId": "ae8a171e-7729-463a-abe8-e31bb3b8dded"
      },
      "execution_count": 24,
      "outputs": [
        {
          "output_type": "stream",
          "name": "stdout",
          "text": [
            "Accuracy: 87.18679975555102\n",
            "confusion_matrix: \n",
            "\n",
            "[[2117  281]\n",
            " [ 348 2163]]\n",
            "\n",
            "\n"
          ]
        },
        {
          "output_type": "display_data",
          "data": {
            "text/plain": [
              "<Figure size 432x288 with 2 Axes>"
            ],
            "image/png": "[encoded data removed]"
          },
          "metadata": {
            "needs_background": "light"
          }
        }
      ]
    },
    {
      "cell_type": "markdown",
      "source": [
        "## Model Four"
      ],
      "metadata": {
        "id": "R2SbhgCM1ti9"
      }
    },
    {
      "cell_type": "code",
      "source": [
        "# Train Test Split for the model 1 [Raw Text]\n",
        "\n",
        "x_train, x_test, y_train, y_test = train_test_split(df_sentimentalDS['Lemma_text'] ,  df_sentimentalDS['sentiment'],\n",
        "                                   test_size=0.3, random_state = 100 )\n",
        "\n",
        "\n",
        "\n",
        "vectorizer = TfidfVectorizer()  # default: lowercase=True, ngram_range=(1,1)\n",
        "vectorizer.fit(x_train)\n",
        "vectorizer.fit(x_test)\n",
        "\n",
        "TF_IDF_M4_Accuracy, TF_IDF_M4 = Perform_SVM(x_train, x_test, y_train, y_test )\n"
      ],
      "metadata": {
        "colab": {
          "base_uri": "https://localhost:8080/",
          "height": 0
        },
        "id": "bx_p4jUH5Nut",
        "outputId": "36766f1b-472c-484f-c334-d32a67da9af3"
      },
      "execution_count": 25,
      "outputs": [
        {
          "output_type": "stream",
          "name": "stdout",
          "text": [
            "Accuracy: 86.43308209411286\n",
            "confusion_matrix: \n",
            "\n",
            "[[2104  294]\n",
            " [ 372 2139]]\n",
            "\n",
            "\n"
          ]
        },
        {
          "output_type": "display_data",
          "data": {
            "text/plain": [
              "<Figure size 432x288 with 2 Axes>"
            ],
            "image/png": "[encoded data removed]"
          },
          "metadata": {
            "needs_background": "light"
          }
        }
      ]
    },
    {
      "cell_type": "code",
      "source": [
        "# Accuracy for all the 4 models \n",
        "print('Model Accuracy using the Count vectorization Method and SVM Algoritm')\n",
        "print(f'Model 1 Accuracy {TF_IDF_M1_Accuracy:.3f} ')\n",
        "print(f'Model 2 Accuracy {TF_IDF_M2_Accuracy:.3f} ')\n",
        "print(f'Model 3 Accuracy {TF_IDF_M3_Accuracy:.3f} ')\n",
        "print(f'Model 4 Accuracy {TF_IDF_M4_Accuracy:.3f} ')\n"
      ],
      "metadata": {
        "colab": {
          "base_uri": "https://localhost:8080/"
        },
        "id": "BSlSi_Ua5Wxo",
        "outputId": "ba139fc2-1423-4109-b844-2692f0706aab"
      },
      "execution_count": 26,
      "outputs": [
        {
          "output_type": "stream",
          "name": "stdout",
          "text": [
            "Model Accuracy using the Count vectorization Method and SVM Algoritm\n",
            "Model 1 Accuracy 86.718 \n",
            "Model 2 Accuracy 86.698 \n",
            "Model 3 Accuracy 87.187 \n",
            "Model 4 Accuracy 86.433 \n"
          ]
        }
      ]
    },
    {
      "cell_type": "markdown",
      "source": [
        "# Comparing the Accuracy of Count Vectorization and TF-IDF Vectorizaiton\n"
      ],
      "metadata": {
        "id": "5-aMiNXF6NHs"
      }
    },
    {
      "cell_type": "markdown",
      "source": [
        "Table formate of Accuracy for Count Vectorization and TF-IDF Vectorizaiton"
      ],
      "metadata": {
        "id": "8ENnKK1iAiOW"
      }
    },
    {
      "cell_type": "code",
      "source": [
        "print('\\t COUNT VECTORIZATION | TF-IDF VECTORIZATION')\n",
        "print(f\" MODEL 1 | {CV_M1_Accuracy} | {TF_IDF_M1_Accuracy}\")\n",
        "print(f\" MODEL 2 | {CV_M2_Accuracy} | {TF_IDF_M2_Accuracy}\")\n",
        "print(f\" MODEL 3 | {CV_M3_Accuracy} | {TF_IDF_M3_Accuracy}\")\n",
        "print(f\" MODEL 4 | {CV_M4_Accuracy} | {TF_IDF_M4_Accuracy}\")"
      ],
      "metadata": {
        "colab": {
          "base_uri": "https://localhost:8080/"
        },
        "id": "bm0boVug6bKk",
        "outputId": "d3fa9360-6b33-4485-dec4-1e5db681e05a"
      },
      "execution_count": 27,
      "outputs": [
        {
          "output_type": "stream",
          "name": "stdout",
          "text": [
            "\t COUNT VECTORIZATION | TF-IDF VECTORIZATION\n",
            " MODEL 1 | 85.59788144224893 | 86.71827256060297\n",
            " MODEL 2 | 85.86270116113262 | 86.69790181299653\n",
            " MODEL 3 | 85.92381340395193 | 87.18679975555102\n",
            " MODEL 4 | 86.06640863719699 | 86.43308209411286\n"
          ]
        }
      ]
    },
    {
      "cell_type": "markdown",
      "source": [
        "Finding the Best model based on the Accuracy \n"
      ],
      "metadata": {
        "id": "yi4iSCmfAoyH"
      }
    },
    {
      "cell_type": "code",
      "source": [
        "OverAllmodelAccuracy = {\n",
        "    'CV_M1'     : CV_M1_Accuracy,\n",
        "    'CV_M2'     : CV_M2_Accuracy,\n",
        "    'CV_M3'     : CV_M3_Accuracy,\n",
        "    'CV_M4'     : CV_M4_Accuracy,\n",
        "    'TF_IDF_M1' : TF_IDF_M1_Accuracy,\n",
        "    'TF_IDF_M2' : TF_IDF_M2_Accuracy,\n",
        "    'TF_IDF_M3' : TF_IDF_M3_Accuracy,\n",
        "    'TF_IDF_M4' : TF_IDF_M4_Accuracy,\n",
        "}\n",
        "\n",
        "BestModel = max(OverAllmodelAccuracy, key= lambda x: OverAllmodelAccuracy[x])\n",
        "print(f'The best model based on the accuracy is {BestModel}')"
      ],
      "metadata": {
        "colab": {
          "base_uri": "https://localhost:8080/"
        },
        "id": "1nTVoEYu-c9t",
        "outputId": "7e8572d6-0be5-40d8-b13d-5a80e35f61f0"
      },
      "execution_count": 28,
      "outputs": [
        {
          "output_type": "stream",
          "name": "stdout",
          "text": [
            "The best model based on the accuracy is TF_IDF_M3\n"
          ]
        }
      ]
    },
    {
      "cell_type": "markdown",
      "source": [
        "# Prediction of Test Dataset"
      ],
      "metadata": {
        "id": "W5_ejhtH1aD3"
      }
    },
    {
      "cell_type": "code",
      "source": [
        "df_Prediction = pd.DataFrame()\n",
        "df_Prediction1 = pd.read_csv('https://raw.githubusercontent.com/harishahamed26/Sentimental-Analysis/main/data/test.csv')\n",
        "df_Prediction1.drop('id', axis=1 , inplace = True)\n",
        "df_Prediction['text'] = df_Prediction1['text']\n",
        "df_Prediction['text'] = df_Prediction['text'].str.lower()\n",
        "\n",
        "df_Prediction['text'] = df_Prediction['text'].str.replace(r'[^\\w\\s]+', '') # Removing punctuations\n",
        "df_Prediction['text'] = df_Prediction['text'].str.replace(r'http\\S+', '')  # Removing URL\n",
        "df_Prediction['text'] = df_Prediction['text'].str.replace(r'[^\\w\\s]', '')\n"
      ],
      "metadata": {
        "id": "at_ivgzby_6t"
      },
      "execution_count": 29,
      "outputs": []
    },
    {
      "cell_type": "code",
      "source": [
        "df_PredictCV = pd.read_csv('https://raw.githubusercontent.com/harishahamed26/Sentimental-Analysis/main/data/test.csv')\n",
        "df_PredictCV = df_PredictCV.drop(['text'] , axis = True)\n",
        "df_PredictTF_IDF = df_PredictCV.copy()\n"
      ],
      "metadata": {
        "id": "Fg0BA3DOhSYK"
      },
      "execution_count": 38,
      "outputs": []
    },
    {
      "cell_type": "code",
      "source": [
        "# Count VECTORIZATION \n",
        "\n",
        "tweet = TweetTokenizer()\n",
        "Token_words = [tweet.tokenize(text) for text in df_Prediction['text']]\n",
        "Token_Sentence = [' '.join(token) for token in Token_words ]\n",
        "\n",
        "\n",
        "WordLemma = WordNetLemmatizer()\n",
        "Lemma_sentences = []\n",
        "\n",
        "# iterate through each list of tokens and lemmatise the tokens\n",
        "for tokens in Token_words:\n",
        "  Lemma_Words = [WordLemma.lemmatize(word) for word in tokens]\n",
        "  Join_Lemma_Words = ' '.join(Lemma_Words)\n",
        "  Lemma_sentences.append(Join_Lemma_Words)\n",
        "\n",
        "# Train Test Split for the model 1 [Raw Text]\n",
        "\n",
        "x_train, x_test, y_train, y_test = train_test_split(df_sentimentalDS['Lemma_text'] ,  df_sentimentalDS['sentiment'],\n",
        "                                   test_size=0.3, random_state = 100 )\n",
        "\n",
        "\n",
        "\n",
        "vectorizer = CountVectorizer()  # default: lowercase=True, ngram_range=(1,1)\n",
        "vectorizer.fit(x_train)\n",
        "#vectorizer.fit(x_test)\n",
        "\n",
        "CV_M3_Accuracy, CV_M3 = Perform_SVM(x_train, x_test, y_train, y_test )\n",
        "\n",
        "\n",
        "X_test = vectorizer.transform(Lemma_sentences)\n",
        "df_PredictCV['prediction'] = CV_M3.predict(X_test)\n",
        "\n",
        "\n",
        "\n",
        "     "
      ],
      "metadata": {
        "colab": {
          "base_uri": "https://localhost:8080/",
          "height": 406
        },
        "id": "0YtnAwKKzu22",
        "outputId": "8535ccb4-ca96-4970-f1d4-8405eed6cac7"
      },
      "execution_count": 53,
      "outputs": [
        {
          "output_type": "stream",
          "name": "stdout",
          "text": [
            "Accuracy: 86.0256671419841\n",
            "confusion_matrix: \n",
            "\n",
            "[[2053  345]\n",
            " [ 341 2170]]\n",
            "\n",
            "\n"
          ]
        },
        {
          "output_type": "display_data",
          "data": {
            "text/plain": [
              "<Figure size 432x288 with 2 Axes>"
            ],
            "image/png": "[encoded data removed]"
          },
          "metadata": {
            "needs_background": "light"
          }
        }
      ]
    },
    {
      "cell_type": "code",
      "source": [
        "# replacing 1 as positive and 0 as negative\n",
        "\n",
        "df_PredictCV['prediction'] = df_PredictCV['prediction'].astype(str)\n",
        "df_PredictCV['prediction'] = df_PredictCV['prediction'].replace('1','positive')\n",
        "df_PredictCV['prediction'] = df_PredictCV['prediction'].replace('0','negative')"
      ],
      "metadata": {
        "id": "7UlbOnZLi0yz"
      },
      "execution_count": 58,
      "outputs": []
    },
    {
      "cell_type": "code",
      "source": [
        "df_PredictCV.to_csv('/content/CV-predictions.csv', index=False)"
      ],
      "metadata": {
        "id": "XwbLvNyo1aX1"
      },
      "execution_count": 61,
      "outputs": []
    },
    {
      "cell_type": "code",
      "source": [
        "# TF-IDF VECTORIZATION \n",
        "\n",
        "\n",
        "tweet = TweetTokenizer()\n",
        "Token_words = [tweet.tokenize(text) for text in df_Prediction['text']]\n",
        "Token_Sentence = [' '.join(token) for token in Token_words ]\n",
        "\n",
        "Stem = PorterStemmer()\n",
        "Stemming = []\n",
        "for token in Token_words:\n",
        "  Stem_Token = [Stem.stem(word) for word in token ] \n",
        "  Join_Stem_Token = ' '.join(Stem_Token)\n",
        "  Stemming.append(Join_Stem_Token)\n",
        "\n",
        "# Train Test Split for the model 1 [Raw Text]\n",
        "\n",
        "x_train, x_test, y_train, y_test = train_test_split(df_sentimentalDS['Stem_Text'] ,  df_sentimentalDS['sentiment'],\n",
        "                                   test_size=0.3, random_state = 100 )\n",
        "\n",
        "\n",
        "\n",
        "vectorizer = TfidfVectorizer()  # default: lowercase=True, ngram_range=(1,1)\n",
        "vectorizer.fit(x_train)\n",
        "#vectorizer.fit(x_test)\n",
        "\n",
        "TF_IDF_M3_Accuracy, TF_IDF_M3 = Perform_SVM(x_train, x_test, y_train, y_test )\n",
        "\n",
        "\n",
        "X_test = vectorizer.transform(Stemming)\n",
        "df_PredictTF_IDF['prediction'] = TF_IDF_M3.predict(X_test)\n",
        "\n",
        "     "
      ],
      "metadata": {
        "id": "8r-x6xyalSXN",
        "colab": {
          "base_uri": "https://localhost:8080/",
          "height": 406
        },
        "outputId": "c4014fd9-ea73-4a78-ee88-cda9abcadd72"
      },
      "execution_count": 62,
      "outputs": [
        {
          "output_type": "stream",
          "name": "stdout",
          "text": [
            "Accuracy: 87.5534732124669\n",
            "confusion_matrix: \n",
            "\n",
            "[[2107  291]\n",
            " [ 320 2191]]\n",
            "\n",
            "\n"
          ]
        },
        {
          "output_type": "display_data",
          "data": {
            "text/plain": [
              "<Figure size 432x288 with 2 Axes>"
            ],
            "image/png": "[encoded data removed]"
          },
          "metadata": {
            "needs_background": "light"
          }
        }
      ]
    },
    {
      "cell_type": "code",
      "source": [
        "# replacing 1 as positive and 0 as negative\n",
        "\n",
        "df_PredictTF_IDF['prediction'] = df_PredictTF_IDF['prediction'].astype(str)\n",
        "df_PredictTF_IDF['prediction'] = df_PredictTF_IDF['prediction'].replace('1','positive')\n",
        "df_PredictTF_IDF['prediction'] = df_PredictTF_IDF['prediction'].replace('0','negative')"
      ],
      "metadata": {
        "id": "fBW0MK6Jjc_6"
      },
      "execution_count": 63,
      "outputs": []
    },
    {
      "cell_type": "code",
      "source": [
        "df_PredictTF_IDF.to_csv('/content/TF-IDF-predictions.csv', index=False)"
      ],
      "metadata": {
        "id": "lu8j6hr5oCi3"
      },
      "execution_count": 64,
      "outputs": []
    },
    {
      "cell_type": "code",
      "source": [
        "# Converting into json format for submission\n",
        "\n",
        "import json\n",
        "\n",
        "import pandas as pd\n",
        "\n",
        "# Converting Count Vectorization predicition file\n",
        "data = []\n",
        "for index, row in df_PredictCV.iterrows():\n",
        "    data.append({'id': row['id'], 'prediction': row['prediction']})\n",
        "\n",
        "submission_file_path = \"submission.json\"\n",
        "with open(submission_file_path, 'w') as fp:\n",
        "    fp.write('\\n'.join(json.dumps(i) for i in data))\n",
        "\n",
        "\n",
        "# Converting TF IDF vectorization predicition file\n",
        "data1 = []\n",
        "for index, row in df_PredictTF_IDF.iterrows():\n",
        "    data1.append({'id': row['id'], 'prediction': row['prediction']})\n",
        "\n",
        "submission_file_path = \"submission1.json\"\n",
        "with open(submission_file_path, 'w') as fp:\n",
        "    fp.write('\\n'.join(json.dumps(i) for i in data1))\n",
        "\n"
      ],
      "metadata": {
        "colab": {
          "base_uri": "https://localhost:8080/"
        },
        "id": "N6tJs9Azj7Ue",
        "outputId": "2a2a903e-fbc0-4d70-f69f-2db3bf8b9433"
      },
      "execution_count": 67,
      "outputs": [
        {
          "output_type": "stream",
          "name": "stdout",
          "text": [
            "[{'id': '96d74cb729', 'prediction': 'positive'}, {'id': 'eee518ae67', 'prediction': 'negative'}, {'id': '01082688c6', 'prediction': 'positive'}, {'id': '33987a8ee5', 'prediction': 'positive'}, {'id': '726e501993', 'prediction': 'positive'}]\n"
          ]
        }
      ]
    }
  ],
  "metadata": {
    "colab": {
      "collapsed_sections": [
        "zuondaGcBcj5",
        "0lmFg-SzWyWX",
        "JTDfYY3z1I5I",
        "bNWKhmaf1Sfu",
        "5-aMiNXF6NHs"
      ],
      "provenance": [],
      "authorship_tag": "ABX9TyPCOtDt/4WhF7LrirBJ/Vcc",
      "include_colab_link": true
    },
    "kernelspec": {
      "display_name": "Python 3",
      "name": "python3"
    },
    "language_info": {
      "name": "python"
    }
  },
  "nbformat": 4,
  "nbformat_minor": 0
}